{
  "nbformat": 4,
  "nbformat_minor": 0,
  "metadata": {
    "colab": {
      "name": "02_main_eda.ipynb",
      "provenance": [],
      "collapsed_sections": [],
      "machine_shape": "hm",
      "authorship_tag": "ABX9TyPWKA2S6GX+WAI4jC6kicgC",
      "include_colab_link": true
    },
    "kernelspec": {
      "name": "python3",
      "display_name": "Python 3"
    },
    "language_info": {
      "name": "python"
    }
  },
  "cells": [
    {
      "cell_type": "markdown",
      "metadata": {
        "id": "view-in-github",
        "colab_type": "text"
      },
      "source": [
        "<a href=\"https://colab.research.google.com/github/evanh1393/dsi_capstone/blob/main/02_main_eda.ipynb\" target=\"_parent\"><img src=\"https://colab.research.google.com/assets/colab-badge.svg\" alt=\"Open In Colab\"/></a>"
      ]
    },
    {
      "cell_type": "markdown",
      "metadata": {
        "id": "x9cuzLBx8TRv"
      },
      "source": [
        "# Imports"
      ]
    },
    {
      "cell_type": "code",
      "metadata": {
        "id": "kp2OuFyG72EG"
      },
      "source": [
        "import pandas as pd\n",
        "import numpy as np\n",
        "\n",
        "from datetime import datetime\n",
        "\n",
        "import matplotlib.pyplot as plt\n",
        "import seaborn as sns"
      ],
      "execution_count": 12,
      "outputs": []
    },
    {
      "cell_type": "code",
      "metadata": {
        "id": "TWumU64fOLlj"
      },
      "source": [
        "sns.set_palette(\"Accent\")"
      ],
      "execution_count": 13,
      "outputs": []
    },
    {
      "cell_type": "markdown",
      "metadata": {
        "id": "iFcn1lDT8cbO"
      },
      "source": [
        "# Mounting Drive"
      ]
    },
    {
      "cell_type": "code",
      "metadata": {
        "colab": {
          "base_uri": "https://localhost:8080/"
        },
        "id": "Xy8DtTTu8azP",
        "outputId": "0d34014a-460e-4763-f8bc-660e01ed53a4"
      },
      "source": [
        "from google.colab import drive\n",
        "drive.mount('/content/drive')"
      ],
      "execution_count": 14,
      "outputs": [
        {
          "output_type": "stream",
          "name": "stdout",
          "text": [
            "Drive already mounted at /content/drive; to attempt to forcibly remount, call drive.mount(\"/content/drive\", force_remount=True).\n"
          ]
        }
      ]
    },
    {
      "cell_type": "markdown",
      "metadata": {
        "id": "2SwBIuwk8pjr"
      },
      "source": [
        "# Datasets"
      ]
    },
    {
      "cell_type": "code",
      "metadata": {
        "id": "b-7IlK2k8epN"
      },
      "source": [
        "# Creating the path of data\n",
        "DATA_PATH = '/content/drive/MyDrive/Colab Notebooks/one-m-capstone/data/main/'"
      ],
      "execution_count": 15,
      "outputs": []
    },
    {
      "cell_type": "markdown",
      "metadata": {
        "id": "7iNzbsVL87KA"
      },
      "source": [
        "## Loading Dataframe"
      ]
    },
    {
      "cell_type": "code",
      "metadata": {
        "id": "fkBAVS2P8wOC"
      },
      "source": [
        "df = pd.read_csv(DATA_PATH + 'combined.csv').drop(columns=['Unnamed: 0'])"
      ],
      "execution_count": 16,
      "outputs": []
    },
    {
      "cell_type": "code",
      "metadata": {
        "colab": {
          "base_uri": "https://localhost:8080/",
          "height": 293
        },
        "id": "1TETN7hS895W",
        "outputId": "40d4e30f-a2f5-4e58-dab6-4fa95e1acb87"
      },
      "source": [
        "df.head()"
      ],
      "execution_count": 17,
      "outputs": [
        {
          "output_type": "execute_result",
          "data": {
            "text/html": [
              "<div>\n",
              "<style scoped>\n",
              "    .dataframe tbody tr th:only-of-type {\n",
              "        vertical-align: middle;\n",
              "    }\n",
              "\n",
              "    .dataframe tbody tr th {\n",
              "        vertical-align: top;\n",
              "    }\n",
              "\n",
              "    .dataframe thead th {\n",
              "        text-align: right;\n",
              "    }\n",
              "</style>\n",
              "<table border=\"1\" class=\"dataframe\">\n",
              "  <thead>\n",
              "    <tr style=\"text-align: right;\">\n",
              "      <th></th>\n",
              "      <th>movie_id</th>\n",
              "      <th>title</th>\n",
              "      <th>genres</th>\n",
              "      <th>user_id</th>\n",
              "      <th>rating</th>\n",
              "      <th>timestamp</th>\n",
              "      <th>gender</th>\n",
              "      <th>age</th>\n",
              "      <th>occupation</th>\n",
              "      <th>zip</th>\n",
              "      <th>age_elab</th>\n",
              "      <th>occ_elab</th>\n",
              "    </tr>\n",
              "  </thead>\n",
              "  <tbody>\n",
              "    <tr>\n",
              "      <th>0</th>\n",
              "      <td>1</td>\n",
              "      <td>Toy Story (1995)</td>\n",
              "      <td>Animation Children's Comedy</td>\n",
              "      <td>1</td>\n",
              "      <td>5</td>\n",
              "      <td>978824268</td>\n",
              "      <td>F</td>\n",
              "      <td>1</td>\n",
              "      <td>10</td>\n",
              "      <td>48067</td>\n",
              "      <td>Under 18</td>\n",
              "      <td>K-12 student</td>\n",
              "    </tr>\n",
              "    <tr>\n",
              "      <th>1</th>\n",
              "      <td>48</td>\n",
              "      <td>Pocahontas (1995)</td>\n",
              "      <td>Animation Children's Musical Romance</td>\n",
              "      <td>1</td>\n",
              "      <td>5</td>\n",
              "      <td>978824351</td>\n",
              "      <td>F</td>\n",
              "      <td>1</td>\n",
              "      <td>10</td>\n",
              "      <td>48067</td>\n",
              "      <td>Under 18</td>\n",
              "      <td>K-12 student</td>\n",
              "    </tr>\n",
              "    <tr>\n",
              "      <th>2</th>\n",
              "      <td>150</td>\n",
              "      <td>Apollo 13 (1995)</td>\n",
              "      <td>Drama</td>\n",
              "      <td>1</td>\n",
              "      <td>5</td>\n",
              "      <td>978301777</td>\n",
              "      <td>F</td>\n",
              "      <td>1</td>\n",
              "      <td>10</td>\n",
              "      <td>48067</td>\n",
              "      <td>Under 18</td>\n",
              "      <td>K-12 student</td>\n",
              "    </tr>\n",
              "    <tr>\n",
              "      <th>3</th>\n",
              "      <td>260</td>\n",
              "      <td>Star Wars: Episode IV - A New Hope (1977)</td>\n",
              "      <td>Action Adventure Fantasy Sci-Fi</td>\n",
              "      <td>1</td>\n",
              "      <td>4</td>\n",
              "      <td>978300760</td>\n",
              "      <td>F</td>\n",
              "      <td>1</td>\n",
              "      <td>10</td>\n",
              "      <td>48067</td>\n",
              "      <td>Under 18</td>\n",
              "      <td>K-12 student</td>\n",
              "    </tr>\n",
              "    <tr>\n",
              "      <th>4</th>\n",
              "      <td>527</td>\n",
              "      <td>Schindler's List (1993)</td>\n",
              "      <td>Drama War</td>\n",
              "      <td>1</td>\n",
              "      <td>5</td>\n",
              "      <td>978824195</td>\n",
              "      <td>F</td>\n",
              "      <td>1</td>\n",
              "      <td>10</td>\n",
              "      <td>48067</td>\n",
              "      <td>Under 18</td>\n",
              "      <td>K-12 student</td>\n",
              "    </tr>\n",
              "  </tbody>\n",
              "</table>\n",
              "</div>"
            ],
            "text/plain": [
              "   movie_id                                      title  ...  age_elab      occ_elab\n",
              "0         1                           Toy Story (1995)  ...  Under 18  K-12 student\n",
              "1        48                          Pocahontas (1995)  ...  Under 18  K-12 student\n",
              "2       150                           Apollo 13 (1995)  ...  Under 18  K-12 student\n",
              "3       260  Star Wars: Episode IV - A New Hope (1977)  ...  Under 18  K-12 student\n",
              "4       527                    Schindler's List (1993)  ...  Under 18  K-12 student\n",
              "\n",
              "[5 rows x 12 columns]"
            ]
          },
          "metadata": {},
          "execution_count": 17
        }
      ]
    },
    {
      "cell_type": "code",
      "metadata": {
        "colab": {
          "base_uri": "https://localhost:8080/"
        },
        "id": "P_5UDSEs8_Kp",
        "outputId": "0bb01208-f3f9-4279-d1f8-63e48ae0cc90"
      },
      "source": [
        "df.info()"
      ],
      "execution_count": 18,
      "outputs": [
        {
          "output_type": "stream",
          "name": "stdout",
          "text": [
            "<class 'pandas.core.frame.DataFrame'>\n",
            "RangeIndex: 1000386 entries, 0 to 1000385\n",
            "Data columns (total 12 columns):\n",
            " #   Column      Non-Null Count    Dtype \n",
            "---  ------      --------------    ----- \n",
            " 0   movie_id    1000386 non-null  int64 \n",
            " 1   title       1000386 non-null  object\n",
            " 2   genres      1000386 non-null  object\n",
            " 3   user_id     1000386 non-null  int64 \n",
            " 4   rating      1000386 non-null  int64 \n",
            " 5   timestamp   1000386 non-null  int64 \n",
            " 6   gender      1000386 non-null  object\n",
            " 7   age         1000386 non-null  int64 \n",
            " 8   occupation  1000386 non-null  int64 \n",
            " 9   zip         1000386 non-null  object\n",
            " 10  age_elab    1000386 non-null  object\n",
            " 11  occ_elab    1000386 non-null  object\n",
            "dtypes: int64(6), object(6)\n",
            "memory usage: 91.6+ MB\n"
          ]
        }
      ]
    },
    {
      "cell_type": "markdown",
      "metadata": {
        "id": "B9v8CwCW9MOk"
      },
      "source": [
        "# Ratings (The Label)\n",
        "\n"
      ]
    },
    {
      "cell_type": "code",
      "metadata": {
        "colab": {
          "base_uri": "https://localhost:8080/"
        },
        "id": "MdTKA7onBbee",
        "outputId": "e158f0c7-b6a6-430c-8327-66778265738c"
      },
      "source": [
        "df['rating'].value_counts(normalize=True)"
      ],
      "execution_count": 19,
      "outputs": [
        {
          "output_type": "execute_result",
          "data": {
            "text/plain": [
              "4    0.349013\n",
              "3    0.261096\n",
              "5    0.226223\n",
              "2    0.107515\n",
              "1    0.056152\n",
              "Name: rating, dtype: float64"
            ]
          },
          "metadata": {},
          "execution_count": 19
        }
      ]
    },
    {
      "cell_type": "code",
      "metadata": {
        "colab": {
          "base_uri": "https://localhost:8080/",
          "height": 295
        },
        "id": "itSwF8el8_uo",
        "outputId": "ba6bf68b-bbcc-4fcf-cb3a-8f50a78744d7"
      },
      "source": [
        "sns.countplot(data=df, x='rating', palette='Purples')\n",
        "plt.title('Distribution of all ratings');"
      ],
      "execution_count": 20,
      "outputs": [
        {
          "output_type": "display_data",
          "data": {
            "image/png": "[encoded data removed]",
            "text/plain": [
              "<Figure size 432x288 with 1 Axes>"
            ]
          },
          "metadata": {
            "needs_background": "light"
          }
        }
      ]
    },
    {
      "cell_type": "markdown",
      "metadata": {
        "id": "ocMY4k9RBYsz"
      },
      "source": [
        "## Interpretation\n",
        "Over half of our ratings are either 4 or 5s. This would imply that users largely enjoy the movies they watch. This also creates an issue of \"rich-getting-riche\" for a recommendation engine. Essentially engines suffer mechanically as users will often rate popular movies meaning the engine will learn about these popular movies more than the less popular ones. In my engine I break up the list of movies by popularty and feed movies that are less popular to the user for consideration. This at least gives an opportunity for those movies to be rated."
      ]
    },
    {
      "cell_type": "markdown",
      "metadata": {
        "id": "wmBzxqrCCxx2"
      },
      "source": [
        "# Genres"
      ]
    },
    {
      "cell_type": "code",
      "metadata": {
        "colab": {
          "base_uri": "https://localhost:8080/"
        },
        "id": "sK3MJ8n69RvX",
        "outputId": "84f20d08-c25f-4b8e-c1ed-77fb73bea33d"
      },
      "source": [
        "df['genres'].value_counts()"
      ],
      "execution_count": 21,
      "outputs": [
        {
          "output_type": "execute_result",
          "data": {
            "text/plain": [
              "Comedy                       116905\n",
              "Drama                        111507\n",
              "Comedy Romance                42716\n",
              "Comedy Drama                  42254\n",
              "Drama Romance                 29173\n",
              "                              ...  \n",
              "Drama Romance Western            29\n",
              "Children's Fantasy               27\n",
              "Comedy Film-Noir Thriller         5\n",
              "Film-Noir Horror                  2\n",
              "Fantasy                           1\n",
              "Name: genres, Length: 301, dtype: int64"
            ]
          },
          "metadata": {},
          "execution_count": 21
        }
      ]
    },
    {
      "cell_type": "code",
      "metadata": {
        "id": "uB3tix7RFJ1h"
      },
      "source": [
        "genre_df = df.copy()\n",
        "genre_df['genres'] = genre_df['genres'].str.split(' ')\n",
        "genre_df = genre_df.explode('genres')"
      ],
      "execution_count": 22,
      "outputs": []
    },
    {
      "cell_type": "code",
      "metadata": {
        "colab": {
          "base_uri": "https://localhost:8080/",
          "height": 295
        },
        "id": "erA1EGE_Dw8-",
        "outputId": "0ef68648-9f97-4fbb-b518-b6a3dd024585"
      },
      "source": [
        "sns.countplot(y='genres', data=genre_df, palette='colorblind')\n",
        "plt.title('Genre Count');"
      ],
      "execution_count": 23,
      "outputs": [
        {
          "output_type": "display_data",
          "data": {
            "image/png": "[encoded data removed]",
            "text/plain": [
              "<Figure size 432x288 with 1 Axes>"
            ]
          },
          "metadata": {
            "needs_background": "light"
          }
        }
      ]
    },
    {
      "cell_type": "code",
      "metadata": {
        "colab": {
          "base_uri": "https://localhost:8080/",
          "height": 295
        },
        "id": "Z66n-mdAJ4Jg",
        "outputId": "d6f67240-f352-414e-b493-699171137109"
      },
      "source": [
        "sns.countplot(y='genres', hue='gender', data=genre_df)\n",
        "plt.title('Gender Differences in Genre Popularity Count');"
      ],
      "execution_count": 24,
      "outputs": [
        {
          "output_type": "display_data",
          "data": {
            "image/png": "[encoded data removed]",
            "text/plain": [
              "<Figure size 432x288 with 1 Axes>"
            ]
          },
          "metadata": {
            "needs_background": "light"
          }
        }
      ]
    },
    {
      "cell_type": "markdown",
      "metadata": {
        "id": "v5KFE56sFtNE"
      },
      "source": [
        "## Interpretation\n",
        "Genres has over 300 different genres, each genre is a combination of some fundamental singular genre. We will break down these genres naively by simply *exploding* the genre feature, and plotting the counts. Comedy, Drama, and Action are the most popular genres. We also have men representing a larger representation inside our dataset."
      ]
    },
    {
      "cell_type": "markdown",
      "metadata": {
        "id": "YHa6woekIW1h"
      },
      "source": [
        "# Occupation"
      ]
    },
    {
      "cell_type": "code",
      "metadata": {
        "colab": {
          "base_uri": "https://localhost:8080/",
          "height": 293
        },
        "id": "niYLWEt_Igt3",
        "outputId": "ee4d301c-f43e-4372-a390-93f841c41621"
      },
      "source": [
        "df.head()"
      ],
      "execution_count": 25,
      "outputs": [
        {
          "output_type": "execute_result",
          "data": {
            "text/html": [
              "<div>\n",
              "<style scoped>\n",
              "    .dataframe tbody tr th:only-of-type {\n",
              "        vertical-align: middle;\n",
              "    }\n",
              "\n",
              "    .dataframe tbody tr th {\n",
              "        vertical-align: top;\n",
              "    }\n",
              "\n",
              "    .dataframe thead th {\n",
              "        text-align: right;\n",
              "    }\n",
              "</style>\n",
              "<table border=\"1\" class=\"dataframe\">\n",
              "  <thead>\n",
              "    <tr style=\"text-align: right;\">\n",
              "      <th></th>\n",
              "      <th>movie_id</th>\n",
              "      <th>title</th>\n",
              "      <th>genres</th>\n",
              "      <th>user_id</th>\n",
              "      <th>rating</th>\n",
              "      <th>timestamp</th>\n",
              "      <th>gender</th>\n",
              "      <th>age</th>\n",
              "      <th>occupation</th>\n",
              "      <th>zip</th>\n",
              "      <th>age_elab</th>\n",
              "      <th>occ_elab</th>\n",
              "    </tr>\n",
              "  </thead>\n",
              "  <tbody>\n",
              "    <tr>\n",
              "      <th>0</th>\n",
              "      <td>1</td>\n",
              "      <td>Toy Story (1995)</td>\n",
              "      <td>Animation Children's Comedy</td>\n",
              "      <td>1</td>\n",
              "      <td>5</td>\n",
              "      <td>978824268</td>\n",
              "      <td>F</td>\n",
              "      <td>1</td>\n",
              "      <td>10</td>\n",
              "      <td>48067</td>\n",
              "      <td>Under 18</td>\n",
              "      <td>K-12 student</td>\n",
              "    </tr>\n",
              "    <tr>\n",
              "      <th>1</th>\n",
              "      <td>48</td>\n",
              "      <td>Pocahontas (1995)</td>\n",
              "      <td>Animation Children's Musical Romance</td>\n",
              "      <td>1</td>\n",
              "      <td>5</td>\n",
              "      <td>978824351</td>\n",
              "      <td>F</td>\n",
              "      <td>1</td>\n",
              "      <td>10</td>\n",
              "      <td>48067</td>\n",
              "      <td>Under 18</td>\n",
              "      <td>K-12 student</td>\n",
              "    </tr>\n",
              "    <tr>\n",
              "      <th>2</th>\n",
              "      <td>150</td>\n",
              "      <td>Apollo 13 (1995)</td>\n",
              "      <td>Drama</td>\n",
              "      <td>1</td>\n",
              "      <td>5</td>\n",
              "      <td>978301777</td>\n",
              "      <td>F</td>\n",
              "      <td>1</td>\n",
              "      <td>10</td>\n",
              "      <td>48067</td>\n",
              "      <td>Under 18</td>\n",
              "      <td>K-12 student</td>\n",
              "    </tr>\n",
              "    <tr>\n",
              "      <th>3</th>\n",
              "      <td>260</td>\n",
              "      <td>Star Wars: Episode IV - A New Hope (1977)</td>\n",
              "      <td>Action Adventure Fantasy Sci-Fi</td>\n",
              "      <td>1</td>\n",
              "      <td>4</td>\n",
              "      <td>978300760</td>\n",
              "      <td>F</td>\n",
              "      <td>1</td>\n",
              "      <td>10</td>\n",
              "      <td>48067</td>\n",
              "      <td>Under 18</td>\n",
              "      <td>K-12 student</td>\n",
              "    </tr>\n",
              "    <tr>\n",
              "      <th>4</th>\n",
              "      <td>527</td>\n",
              "      <td>Schindler's List (1993)</td>\n",
              "      <td>Drama War</td>\n",
              "      <td>1</td>\n",
              "      <td>5</td>\n",
              "      <td>978824195</td>\n",
              "      <td>F</td>\n",
              "      <td>1</td>\n",
              "      <td>10</td>\n",
              "      <td>48067</td>\n",
              "      <td>Under 18</td>\n",
              "      <td>K-12 student</td>\n",
              "    </tr>\n",
              "  </tbody>\n",
              "</table>\n",
              "</div>"
            ],
            "text/plain": [
              "   movie_id                                      title  ...  age_elab      occ_elab\n",
              "0         1                           Toy Story (1995)  ...  Under 18  K-12 student\n",
              "1        48                          Pocahontas (1995)  ...  Under 18  K-12 student\n",
              "2       150                           Apollo 13 (1995)  ...  Under 18  K-12 student\n",
              "3       260  Star Wars: Episode IV - A New Hope (1977)  ...  Under 18  K-12 student\n",
              "4       527                    Schindler's List (1993)  ...  Under 18  K-12 student\n",
              "\n",
              "[5 rows x 12 columns]"
            ]
          },
          "metadata": {},
          "execution_count": 25
        }
      ]
    },
    {
      "cell_type": "code",
      "metadata": {
        "colab": {
          "base_uri": "https://localhost:8080/",
          "height": 295
        },
        "id": "DFyXl_AdFETd",
        "outputId": "1f264dee-4247-4ff1-9b41-140187e49296"
      },
      "source": [
        "sns.countplot(y='occ_elab', data=genre_df, palette='colorblind')\n",
        "plt.title('Occupation Count')\n",
        "plt.ylabel('Occupation');"
      ],
      "execution_count": 26,
      "outputs": [
        {
          "output_type": "display_data",
          "data": {
            "image/png": "[encoded data removed]",
            "text/plain": [
              "<Figure size 432x288 with 1 Axes>"
            ]
          },
          "metadata": {
            "needs_background": "light"
          }
        }
      ]
    },
    {
      "cell_type": "markdown",
      "metadata": {
        "id": "7AA9MadbJPby"
      },
      "source": [
        "### What genres are popular with each profession?\n",
        "No surprises as these are our two most popular genres by far."
      ]
    },
    {
      "cell_type": "code",
      "metadata": {
        "colab": {
          "base_uri": "https://localhost:8080/"
        },
        "id": "H51fOOfwImxN",
        "outputId": "42434373-0535-42df-aa3d-119f6a59f9c7"
      },
      "source": [
        "df.groupby('occ_elab')['genres'].agg(pd.Series.mode)"
      ],
      "execution_count": 27,
      "outputs": [
        {
          "output_type": "execute_result",
          "data": {
            "text/plain": [
              "occ_elab\n",
              "K-12 student              Comedy\n",
              "academic/educator          Drama\n",
              "artist                     Drama\n",
              "clerical/admin            Comedy\n",
              "college/grad student      Comedy\n",
              "customer service          Comedy\n",
              "doctor/health care         Drama\n",
              "executive/managerial       Drama\n",
              "farmer                    Comedy\n",
              "homemaker                 Comedy\n",
              "lawyer                    Comedy\n",
              "other or not specified    Comedy\n",
              "programmer                Comedy\n",
              "retired                    Drama\n",
              "sales/marketing           Comedy\n",
              "scientist                  Drama\n",
              "self-employed             Comedy\n",
              "technician/engineer       Comedy\n",
              "tradesman/craftsman       Comedy\n",
              "unemployed                Comedy\n",
              "writer                     Drama\n",
              "Name: genres, dtype: object"
            ]
          },
          "metadata": {},
          "execution_count": 27
        }
      ]
    },
    {
      "cell_type": "markdown",
      "metadata": {
        "id": "sDlH3NqxMgvd"
      },
      "source": [
        "# Titles"
      ]
    },
    {
      "cell_type": "markdown",
      "metadata": {
        "id": "ahbnyybkP5PE"
      },
      "source": [
        "### Most Popular Titles"
      ]
    },
    {
      "cell_type": "code",
      "metadata": {
        "colab": {
          "base_uri": "https://localhost:8080/",
          "height": 299
        },
        "id": "EmY9V-tFJppA",
        "outputId": "e86b2c37-01a6-4f86-9482-a0251e78d83d"
      },
      "source": [
        "popular_titles = df.groupby('title')['rating'].count().sort_values(ascending=False).head(10)\n",
        "sns.barplot(y=popular_titles.index, x=popular_titles.values,)\n",
        "plt.ylabel('Movie Title')\n",
        "plt.title('Most Popular Movies')"
      ],
      "execution_count": 28,
      "outputs": [
        {
          "output_type": "execute_result",
          "data": {
            "text/plain": [
              "Text(0.5, 1.0, 'Most Popular Movies')"
            ]
          },
          "metadata": {},
          "execution_count": 28
        },
        {
          "output_type": "display_data",
          "data": {
            "image/png": "[encoded data removed]",
            "text/plain": [
              "<Figure size 432x288 with 1 Axes>"
            ]
          },
          "metadata": {
            "needs_background": "light"
          }
        }
      ]
    },
    {
      "cell_type": "markdown",
      "metadata": {
        "id": "KaIfDSg4Qc5P"
      },
      "source": [
        "### Average ratings of the most popular titles"
      ]
    },
    {
      "cell_type": "code",
      "metadata": {
        "colab": {
          "base_uri": "https://localhost:8080/",
          "height": 281
        },
        "id": "q63F1IEMQNGV",
        "outputId": "d73b91a6-a7bb-45fc-ad8a-859eb03ef82d"
      },
      "source": [
        "avg_rating = df.loc[popular_titles.values].groupby('title')['rating'].mean()\n",
        "sns.barplot(y=avg_rating.index, x=avg_rating.values)\n",
        "plt.ylabel('Movie Title')\n",
        "plt.title('Average Rating of the Most Popular Movies');"
      ],
      "execution_count": 29,
      "outputs": [
        {
          "output_type": "display_data",
          "data": {
            "image/png": "[encoded data removed]",
            "text/plain": [
              "<Figure size 432x288 with 1 Axes>"
            ]
          },
          "metadata": {
            "needs_background": "light"
          }
        }
      ]
    }
  ]
}